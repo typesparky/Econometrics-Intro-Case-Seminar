{
 "cells": [
  {
   "cell_type": "code",
   "execution_count": 4,
   "metadata": {},
   "outputs": [],
   "source": [
    "import gurobipy as gp\n",
    "from gurobipy import GRB\n",
    "from gurobipy import *\n",
    "import pandas as pd"
   ]
  },
  {
   "cell_type": "code",
   "execution_count": 35,
   "metadata": {},
   "outputs": [],
   "source": [
    "model = Model(\"Train_Scheduling\")"
   ]
  },
  {
   "cell_type": "code",
   "execution_count": 34,
   "metadata": {},
   "outputs": [],
   "source": [
    "# Constants\n",
    "costs = {'OC': 260000, 'OH': 210000}\n",
    "capacity = {'OC': 620, 'OH': 420}\n",
    "length = {'OC': 100, 'OH': 70}"
   ]
  },
  {
   "cell_type": "code",
   "execution_count": 28,
   "metadata": {},
   "outputs": [
    {
     "name": "stderr",
     "output_type": "stream",
     "text": [
      "/var/folders/4g/c51vpg2j0nj65hpt4ffnh7xm0000gn/T/ipykernel_30861/1692797332.py:1: FutureWarning: The behavior of obj[i:j] with a float-dtype index is deprecated. In a future version, this will be treated as positional instead of label-based. For label-based slicing, use obj.loc[i:j] instead\n",
      "  df = pd.read_excel('Railway services-2024.xlsx', index_col='Trip')[:200]\n"
     ]
    }
   ],
   "source": [
    "df = pd.read_excel('Railway services-2024.xlsx', index_col='Trip')[:200]"
   ]
  },
  {
   "cell_type": "code",
   "execution_count": 38,
   "metadata": {},
   "outputs": [],
   "source": [
    "# Decision Variables\n",
    "N = model.addVars(['OC', 'OH'], df.index, vtype=GRB.INTEGER, name='N')\n",
    "\n",
    "# Objective Function\n",
    "model.setObjective(quicksum(costs[u] * N[u, c] for u in ['OC', 'OH'] for c in df.index), GRB.MINIMIZE)\n",
    "\n",
    "# Constraints\n",
    "# Passenger Demand\n",
    "demand_constraint = model.addConstrs((quicksum()))"
   ]
  }
 ],
 "metadata": {
  "kernelspec": {
   "display_name": "Python 3",
   "language": "python",
   "name": "python3"
  },
  "language_info": {
   "codemirror_mode": {
    "name": "ipython",
    "version": 3
   },
   "file_extension": ".py",
   "mimetype": "text/x-python",
   "name": "python",
   "nbconvert_exporter": "python",
   "pygments_lexer": "ipython3",
   "version": "3.11.7"
  }
 },
 "nbformat": 4,
 "nbformat_minor": 2
}
